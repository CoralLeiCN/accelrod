{
 "cells": [
  {
   "cell_type": "code",
   "execution_count": 1,
   "metadata": {},
   "outputs": [],
   "source": [
    "from accelrod.benchmark import benchmark_GEMM, to_pandas\n",
    "import torch"
   ]
  },
  {
   "cell_type": "code",
   "execution_count": 2,
   "metadata": {},
   "outputs": [
    {
     "name": "stdout",
     "output_type": "stream",
     "text": [
      "device is None, automatically set to cuda\n",
      "dtype is torch.float16, bytes_per_element: 2\n",
      "cuda:0\n",
      "cuda:0\n",
      "tflops: 0.23540191588846077, x: 0.004561313020531088, arithmetic_intensity: 7.984405458089668\n",
      "device is None, automatically set to cuda\n",
      "dtype is torch.float16, bytes_per_element: 2\n",
      "cuda:0\n",
      "cuda:0\n",
      "tflops: 1.8867312567004106, x: 0.00910562599892728, arithmetic_intensity: 124.12121212121212\n",
      "device is None, automatically set to cuda\n",
      "dtype is torch.float16, bytes_per_element: 2\n",
      "cuda:0\n",
      "cuda:0\n",
      "tflops: 2.336262095364832, x: 0.014707141992403194, arithmetic_intensity: 240.94117647058823\n",
      "device is None, automatically set to cuda\n",
      "dtype is torch.float16, bytes_per_element: 2\n",
      "cuda:0\n",
      "cuda:0\n",
      "tflops: 2.974513082483523, x: 0.02310276500065811, arithmetic_intensity: 455.1111111111111\n",
      "device is None, automatically set to cuda\n",
      "dtype is torch.float16, bytes_per_element: 2\n",
      "cuda:0\n",
      "cuda:0\n",
      "tflops: 3.181242154880276, x: 0.043202920991461724, arithmetic_intensity: 819.2\n",
      "device is None, automatically set to cuda\n",
      "dtype is torch.float16, bytes_per_element: 2\n",
      "cuda:0\n",
      "cuda:0\n",
      "tflops: 3.04870949340971, x: 0.09016205300576985, arithmetic_intensity: 1365.3333333333333\n",
      "device is None, automatically set to cuda\n",
      "dtype is torch.float16, bytes_per_element: 2\n",
      "cuda:0\n",
      "cuda:0\n",
      "tflops: 3.167874846142095, x: 0.17354088800493628, arithmetic_intensity: 2048.0\n",
      "device is None, automatically set to cuda\n",
      "dtype is torch.float16, bytes_per_element: 2\n",
      "cuda:0\n",
      "cuda:0\n",
      "tflops: 3.1622742928256447, x: 0.3476964760047849, arithmetic_intensity: 2730.6666666666665\n"
     ]
    }
   ],
   "source": [
    "multiplier = 8\n",
    "result = []\n",
    "n = 128\n",
    "for n in [1, 16, 32, 64, 128, 256, 512, 1024]:\n",
    "# for n in [1024]:\n",
    "    result.append(benchmark_GEMM(matrix_shape= (1024*multiplier, n*multiplier, 1024*multiplier), dtype = torch.float16, number = 1))"
   ]
  },
  {
   "cell_type": "code",
   "execution_count": 3,
   "metadata": {},
   "outputs": [],
   "source": [
    "df = to_pandas(result)"
   ]
  },
  {
   "cell_type": "code",
   "execution_count": null,
   "metadata": {},
   "outputs": [],
   "source": []
  }
 ],
 "metadata": {
  "kernelspec": {
   "display_name": ".venv",
   "language": "python",
   "name": "python3"
  },
  "language_info": {
   "codemirror_mode": {
    "name": "ipython",
    "version": 3
   },
   "file_extension": ".py",
   "mimetype": "text/x-python",
   "name": "python",
   "nbconvert_exporter": "python",
   "pygments_lexer": "ipython3",
   "version": "3.12.7"
  }
 },
 "nbformat": 4,
 "nbformat_minor": 2
}
