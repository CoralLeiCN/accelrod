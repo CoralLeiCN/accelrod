{
 "cells": [
  {
   "cell_type": "code",
   "execution_count": 1,
   "metadata": {},
   "outputs": [],
   "source": [
    "from accelrod.benchmark import (\n",
    "    benchmark_GEMM,\n",
    "    to_pandas,\n",
    "    plot_result,\n",
    "    get_power_of_two_sequence,\n",
    "    benchmark_GEMM_wrapper\n",
    ")\n",
    "from accelrod.device import get_gpu_free_memory\n",
    "import torch\n",
    "import numpy as np"
   ]
  },
  {
   "cell_type": "code",
   "execution_count": 2,
   "metadata": {},
   "outputs": [],
   "source": [
    "# convert MB to bytes\n",
    "total_free_bytes = get_gpu_free_memory() * 0.8 * 1024**2\n",
    "# temporary assume benchmarking start with float64 so 8 bytes\n",
    "max_n = np.sqrt(total_free_bytes / 5 / 8)\n",
    "# 3 * (n**2) * 8"
   ]
  },
  {
   "cell_type": "code",
   "execution_count": 3,
   "metadata": {},
   "outputs": [
    {
     "data": {
      "text/plain": [
       "np.float64(7197.197676873965)"
      ]
     },
     "execution_count": 3,
     "metadata": {},
     "output_type": "execute_result"
    }
   ],
   "source": [
    "max_n"
   ]
  },
  {
   "cell_type": "code",
   "execution_count": 4,
   "metadata": {},
   "outputs": [
    {
     "name": "stdout",
     "output_type": "stream",
     "text": [
      "Powers of 2 up to 7197.197676873965: [1, 2, 4, 8, 16, 32, 64, 128, 256, 512, 1024, 2048, 4096]\n"
     ]
    }
   ],
   "source": [
    "# Example usage\n",
    "# Using your existing max_n value\n",
    "sequence = get_power_of_two_sequence(max_n)\n",
    "print(f\"Powers of 2 up to {max_n}: {sequence}\")"
   ]
  },
  {
   "cell_type": "code",
   "execution_count": 5,
   "metadata": {},
   "outputs": [
    {
     "data": {
      "text/plain": [
       "'NVIDIA GeForce GTX 980'"
      ]
     },
     "execution_count": 5,
     "metadata": {},
     "output_type": "execute_result"
    }
   ],
   "source": [
    "torch.cuda.get_device_name()"
   ]
  },
  {
   "cell_type": "code",
   "execution_count": 6,
   "metadata": {},
   "outputs": [
    {
     "name": "stdout",
     "output_type": "stream",
     "text": [
      "device is None, automatically set to cuda\n",
      "dtype is torch.float32, bytes_per_element: 4\n",
      "matrix shape: (4096, 1, 4096)\n",
      "cuda:0\n",
      "cuda:0\n",
      "2335.0\n",
      "tflops: 0.017712900874555293, x: 0.0018943498999760776, arithmetic_intensity: 0.4997559785261103\n",
      "device is None, automatically set to cuda\n",
      "dtype is torch.float32, bytes_per_element: 4\n",
      "matrix shape: (4096, 2, 4096)\n",
      "cuda:0\n",
      "cuda:0\n",
      "2172.0\n",
      "tflops: 0.035565107109468794, x: 0.0018869298999561579, arithmetic_intensity: 0.9990243902439024\n",
      "device is None, automatically set to cuda\n",
      "dtype is torch.float32, bytes_per_element: 4\n",
      "matrix shape: (4096, 4, 4096)\n",
      "cuda:0\n",
      "cuda:0\n",
      "2172.0\n",
      "tflops: 0.06784104012125307, x: 0.0019784149500083003, arithmetic_intensity: 1.996101364522417\n",
      "device is None, automatically set to cuda\n",
      "dtype is torch.float32, bytes_per_element: 4\n",
      "matrix shape: (4096, 8, 4096)\n",
      "cuda:0\n",
      "cuda:0\n",
      "2171.0\n",
      "tflops: 0.1430442787989113, x: 0.0018765899500067461, arithmetic_intensity: 3.9844357976653697\n",
      "device is None, automatically set to cuda\n",
      "dtype is torch.float32, bytes_per_element: 4\n",
      "matrix shape: (4096, 16, 4096)\n",
      "cuda:0\n",
      "cuda:0\n",
      "2171.0\n",
      "tflops: 0.27228904025375045, x: 0.001971694900021248, arithmetic_intensity: 7.937984496124031\n",
      "device is None, automatically set to cuda\n",
      "dtype is torch.float32, bytes_per_element: 4\n",
      "matrix shape: (4096, 32, 4096)\n",
      "cuda:0\n",
      "cuda:0\n",
      "2171.0\n",
      "tflops: 0.5344804748032114, x: 0.0020089448999897285, arithmetic_intensity: 15.753846153846155\n",
      "device is None, automatically set to cuda\n",
      "dtype is torch.float32, bytes_per_element: 4\n",
      "matrix shape: (4096, 64, 4096)\n",
      "cuda:0\n",
      "cuda:0\n",
      "2166.0\n",
      "tflops: 0.9691204718925684, x: 0.002215909900041879, arithmetic_intensity: 31.03030303030303\n",
      "device is None, automatically set to cuda\n",
      "dtype is torch.float32, bytes_per_element: 4\n",
      "matrix shape: (4096, 128, 4096)\n",
      "cuda:0\n",
      "cuda:0\n",
      "2165.0\n",
      "tflops: 1.5673261843102086, x: 0.002740314899983787, arithmetic_intensity: 60.23529411764706\n",
      "device is None, automatically set to cuda\n",
      "dtype is torch.float32, bytes_per_element: 4\n",
      "matrix shape: (4096, 256, 4096)\n",
      "cuda:0\n",
      "cuda:0\n",
      "2165.0\n",
      "tflops: 2.2207662412670737, x: 0.0038680048500282283, arithmetic_intensity: 113.77777777777777\n",
      "device is None, automatically set to cuda\n",
      "dtype is torch.float32, bytes_per_element: 4\n",
      "matrix shape: (4096, 512, 4096)\n",
      "cuda:0\n",
      "cuda:0\n",
      "2165.0\n",
      "tflops: 2.915170098877138, x: 0.00589326475001144, arithmetic_intensity: 204.8\n",
      "device is None, automatically set to cuda\n",
      "dtype is torch.float32, bytes_per_element: 4\n",
      "matrix shape: (4096, 1024, 4096)\n",
      "cuda:0\n",
      "cuda:0\n",
      "2101.0\n",
      "tflops: 3.3468800244455608, x: 0.010266199599936954, arithmetic_intensity: 341.3333333333333\n",
      "device is None, automatically set to cuda\n",
      "dtype is torch.float32, bytes_per_element: 4\n",
      "matrix shape: (4096, 2048, 4096)\n",
      "cuda:0\n",
      "cuda:0\n",
      "2101.0\n",
      "tflops: 3.522750769288818, x: 0.0195073342500109, arithmetic_intensity: 512.0\n",
      "device is None, automatically set to cuda\n",
      "dtype is torch.float32, bytes_per_element: 4\n",
      "matrix shape: (4096, 4096, 4096)\n",
      "cuda:0\n",
      "cuda:0\n",
      "2094.0\n",
      "tflops: 3.650597133279876, x: 0.03764834860003248, arithmetic_intensity: 682.6666666666666\n"
     ]
    }
   ],
   "source": [
    "result = benchmark_GEMM_wrapper(dtype=torch.float32)"
   ]
  },
  {
   "cell_type": "code",
   "execution_count": 7,
   "metadata": {},
   "outputs": [],
   "source": [
    "# multiplier = 4\n",
    "# result = []\n",
    "# for n in sequence:\n",
    "#     # for n in [1024]:\n",
    "#     result.append(\n",
    "#         benchmark_GEMM(\n",
    "#             matrix_shape=(1024 * multiplier, n, 1024 * multiplier),\n",
    "#             dtype=torch.float32,\n",
    "#             number=20,\n",
    "#         )\n",
    "#     )"
   ]
  },
  {
   "cell_type": "code",
   "execution_count": 8,
   "metadata": {},
   "outputs": [],
   "source": [
    "df = to_pandas(result)"
   ]
  },
  {
   "cell_type": "code",
   "execution_count": 9,
   "metadata": {},
   "outputs": [
    {
     "data": {
      "image/png": "[encoded data removed]",
      "text/plain": [
       "<Figure size 640x480 with 1 Axes>"
      ]
     },
     "metadata": {},
     "output_type": "display_data"
    }
   ],
   "source": [
    "plot_result(df)"
   ]
  },
  {
   "cell_type": "code",
   "execution_count": null,
   "metadata": {},
   "outputs": [],
   "source": []
  }
 ],
 "metadata": {
  "kernelspec": {
   "display_name": ".venv",
   "language": "python",
   "name": "python3"
  },
  "language_info": {
   "codemirror_mode": {
    "name": "ipython",
    "version": 3
   },
   "file_extension": ".py",
   "mimetype": "text/x-python",
   "name": "python",
   "nbconvert_exporter": "python",
   "pygments_lexer": "ipython3",
   "version": "3.12.7"
  }
 },
 "nbformat": 4,
 "nbformat_minor": 2
}
