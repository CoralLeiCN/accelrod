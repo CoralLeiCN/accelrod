{
 "cells": [
  {
   "cell_type": "code",
   "execution_count": 1,
   "metadata": {},
   "outputs": [],
   "source": [
    "from accelrod.benchmark import benchmark_GEMM"
   ]
  },
  {
   "cell_type": "code",
   "execution_count": 3,
   "metadata": {},
   "outputs": [],
   "source": [
    "import torch"
   ]
  },
  {
   "cell_type": "code",
   "execution_count": 4,
   "metadata": {},
   "outputs": [
    {
     "name": "stdout",
     "output_type": "stream",
     "text": [
      "device is None, automatically set to cuda\n",
      "dtype is torch.float16, bytes_per_element: 2\n",
      "cuda:0\n",
      "cuda:0\n",
      "tflops: 2.9548566847557756, x: 0.04651289999310393, arithmetic_intensity: 819.2\n"
     ]
    },
    {
     "data": {
      "text/plain": [
       "(2.9548566847557756,\n",
       " <torch.utils.benchmark.utils.common.Measurement object at 0x7f165b2cef90>\n",
       " a @ b + c; torch.cuda.synchronize()\n",
       "   46.51 ms\n",
       "   1 measurement, 1 runs , 1 thread,\n",
       " 819.2)"
      ]
     },
     "execution_count": 4,
     "metadata": {},
     "output_type": "execute_result"
    }
   ],
   "source": [
    "multiplier = 8\n",
    "result = []\n",
    "n = 128\n",
    "benchmark_GEMM(matrix_shape= (1024*multiplier, n*multiplier, 1024*multiplier), dtype = torch.float16, number = 1)"
   ]
  },
  {
   "cell_type": "code",
   "execution_count": null,
   "metadata": {},
   "outputs": [],
   "source": []
  }
 ],
 "metadata": {
  "kernelspec": {
   "display_name": ".venv",
   "language": "python",
   "name": "python3"
  },
  "language_info": {
   "codemirror_mode": {
    "name": "ipython",
    "version": 3
   },
   "file_extension": ".py",
   "mimetype": "text/x-python",
   "name": "python",
   "nbconvert_exporter": "python",
   "pygments_lexer": "ipython3",
   "version": "3.12.7"
  }
 },
 "nbformat": 4,
 "nbformat_minor": 2
}
