{
 "cells": [
  {
   "cell_type": "code",
   "execution_count": null,
   "metadata": {},
   "outputs": [],
   "source": [
    "from accelrod.benchmark import (\n",
    "    benchmark_GEMM,\n",
    "    to_pandas,\n",
    "    plot_result,\n",
    "    get_gpu_free_memory,\n",
    "    get_power_of_two_sequence,\n",
    ")\n",
    "import torch\n",
    "import numpy as np"
   ]
  },
  {
   "cell_type": "code",
   "execution_count": null,
   "metadata": {},
   "outputs": [],
   "source": [
    "# convert MB to bytes\n",
    "total_free_bytes = get_gpu_free_memory() * 0.8 * 1024**2\n",
    "# temporary assume benchmarking start with float64 so 8 bytes\n",
    "max_n = np.sqrt(total_free_bytes / 5 / 8)\n",
    "# 3 * (n**2) * 8"
   ]
  },
  {
   "cell_type": "code",
   "execution_count": 3,
   "metadata": {},
   "outputs": [
    {
     "data": {
      "text/plain": [
       "np.float64(7517.861823683646)"
      ]
     },
     "execution_count": 3,
     "metadata": {},
     "output_type": "execute_result"
    }
   ],
   "source": [
    "max_n"
   ]
  },
  {
   "cell_type": "code",
   "execution_count": 4,
   "metadata": {},
   "outputs": [
    {
     "name": "stdout",
     "output_type": "stream",
     "text": [
      "Powers of 2 up to 7517.861823683646: [1, 2, 4, 8, 16, 32, 64, 128, 256, 512, 1024, 2048, 4096]\n"
     ]
    }
   ],
   "source": [
    "# Example usage\n",
    "# Using your existing max_n value\n",
    "sequence = get_power_of_two_sequence(max_n)\n",
    "print(f\"Powers of 2 up to {max_n}: {sequence}\")"
   ]
  },
  {
   "cell_type": "code",
   "execution_count": 5,
   "metadata": {},
   "outputs": [
    {
     "data": {
      "text/plain": [
       "'NVIDIA GeForce GTX 980'"
      ]
     },
     "execution_count": 5,
     "metadata": {},
     "output_type": "execute_result"
    }
   ],
   "source": [
    "torch.cuda.get_device_name()"
   ]
  },
  {
   "cell_type": "code",
   "execution_count": null,
   "metadata": {},
   "outputs": [
    {
     "name": "stdout",
     "output_type": "stream",
     "text": [
      "device is None, automatically set to cuda\n",
      "dtype is torch.float64, bytes_per_element: 8\n",
      "matrix shape: (4096, 1, 4096)\n"
     ]
    },
    {
     "name": "stdout",
     "output_type": "stream",
     "text": [
      "cuda:0\n",
      "cuda:0\n",
      "2431.0\n",
      "tflops: 0.009386051096994405, x: 0.0035749253496760503, arithmetic_intensity: 0.24987798926305516\n",
      "device is None, automatically set to cuda\n",
      "dtype is torch.float64, bytes_per_element: 8\n",
      "matrix shape: (4096, 2, 4096)\n",
      "cuda:0\n",
      "cuda:0\n",
      "2140.0\n",
      "tflops: 0.012372440168761958, x: 0.0054240604993538, arithmetic_intensity: 0.4995121951219512\n",
      "device is None, automatically set to cuda\n",
      "dtype is torch.float64, bytes_per_element: 8\n",
      "matrix shape: (4096, 4, 4096)\n",
      "cuda:0\n",
      "cuda:0\n",
      "2140.0\n",
      "tflops: 0.025057775653417685, x: 0.0053563305002171544, arithmetic_intensity: 0.9980506822612085\n",
      "device is None, automatically set to cuda\n",
      "dtype is torch.float64, bytes_per_element: 8\n",
      "matrix shape: (4096, 8, 4096)\n",
      "cuda:0\n",
      "cuda:0\n",
      "2140.0\n",
      "tflops: 0.050905073438115095, x: 0.005273255451174919, arithmetic_intensity: 1.9922178988326849\n",
      "device is None, automatically set to cuda\n",
      "dtype is torch.float64, bytes_per_element: 8\n",
      "matrix shape: (4096, 16, 4096)\n",
      "cuda:0\n",
      "cuda:0\n",
      "2140.0\n",
      "tflops: 0.07484894003193247, x: 0.0071727256494341415, arithmetic_intensity: 3.9689922480620154\n",
      "device is None, automatically set to cuda\n",
      "dtype is torch.float64, bytes_per_element: 8\n",
      "matrix shape: (4096, 32, 4096)\n",
      "cuda:0\n",
      "cuda:0\n",
      "2141.0\n",
      "tflops: 0.09969399665238701, x: 0.010770375950960443, arithmetic_intensity: 7.876923076923077\n",
      "device is None, automatically set to cuda\n",
      "dtype is torch.float64, bytes_per_element: 8\n",
      "matrix shape: (4096, 64, 4096)\n",
      "cuda:0\n",
      "cuda:0\n",
      "2141.0\n",
      "tflops: 0.11788202974240373, x: 0.018217226600972934, arithmetic_intensity: 15.515151515151516\n",
      "device is None, automatically set to cuda\n",
      "dtype is torch.float64, bytes_per_element: 8\n",
      "matrix shape: (4096, 128, 4096)\n",
      "cuda:0\n",
      "cuda:0\n",
      "2101.0\n",
      "tflops: 0.13203878720535367, x: 0.03252807290118653, arithmetic_intensity: 30.11764705882353\n",
      "device is None, automatically set to cuda\n",
      "dtype is torch.float64, bytes_per_element: 8\n",
      "matrix shape: (4096, 256, 4096)\n",
      "cuda:0\n",
      "cuda:0\n",
      "2102.0\n",
      "tflops: 0.1396085246717119, x: 0.061528725500102154, arithmetic_intensity: 56.888888888888886\n",
      "device is None, automatically set to cuda\n",
      "dtype is torch.float64, bytes_per_element: 8\n",
      "matrix shape: (4096, 512, 4096)\n",
      "cuda:0\n",
      "cuda:0\n",
      "1981.0\n",
      "tflops: 0.1438683064915518, x: 0.11941385565005476, arithmetic_intensity: 102.4\n",
      "device is None, automatically set to cuda\n",
      "dtype is torch.float64, bytes_per_element: 8\n",
      "matrix shape: (4096, 1024, 4096)\n",
      "cuda:0\n",
      "cuda:0\n",
      "2029.0\n",
      "tflops: 0.1456659666271329, x: 0.23588034434942529, arithmetic_intensity: 170.66666666666666\n",
      "device is None, automatically set to cuda\n",
      "dtype is torch.float64, bytes_per_element: 8\n",
      "matrix shape: (4096, 2048, 4096)\n",
      "cuda:0\n",
      "cuda:0\n",
      "2127.0\n",
      "tflops: 0.14648389433426964, x: 0.46912650055019184, arithmetic_intensity: 256.0\n",
      "device is None, automatically set to cuda\n",
      "dtype is torch.float64, bytes_per_element: 8\n",
      "matrix shape: (4096, 4096, 4096)\n",
      "cuda:0\n",
      "cuda:0\n",
      "2219.0\n",
      "tflops: 0.1029938261940955, x: 1.3344387576493317, arithmetic_intensity: 341.3333333333333\n"
     ]
    }
   ],
   "source": [
    "multiplier = 4\n",
    "result = []\n",
    "for n in sequence:\n",
    "    # for n in [1024]:\n",
    "    result.append(\n",
    "        benchmark_GEMM(\n",
    "            matrix_shape=(1024 * multiplier, n, 1024 * multiplier),\n",
    "            dtype=torch.float64,\n",
    "            number=20,\n",
    "        )\n",
    "    )"
   ]
  },
  {
   "cell_type": "code",
   "execution_count": 7,
   "metadata": {},
   "outputs": [],
   "source": [
    "df = to_pandas(result)"
   ]
  },
  {
   "cell_type": "code",
   "execution_count": 8,
   "metadata": {},
   "outputs": [
    {
     "data": {
      "image/png": "[encoded data removed]",
      "text/plain": [
       "<Figure size 640x480 with 1 Axes>"
      ]
     },
     "metadata": {},
     "output_type": "display_data"
    }
   ],
   "source": [
    "plot_result(df)"
   ]
  },
  {
   "cell_type": "code",
   "execution_count": null,
   "metadata": {},
   "outputs": [],
   "source": []
  }
 ],
 "metadata": {
  "kernelspec": {
   "display_name": ".venv",
   "language": "python",
   "name": "python3"
  },
  "language_info": {
   "codemirror_mode": {
    "name": "ipython",
    "version": 3
   },
   "file_extension": ".py",
   "mimetype": "text/x-python",
   "name": "python",
   "nbconvert_exporter": "python",
   "pygments_lexer": "ipython3",
   "version": "3.12.7"
  }
 },
 "nbformat": 4,
 "nbformat_minor": 2
}
